{
 "cells": [
  {
   "cell_type": "code",
   "execution_count": 2,
   "metadata": {},
   "outputs": [
    {
     "name": "stdout",
     "output_type": "stream",
     "text": [
      "----\n",
      "OpenMP:\n",
      "  Hardware threads: 40\n",
      "  JIT Command: \"gcc -x c -fPIC -shared  -std=gnu99  -O3 -march=native -Werror -fopenmp -I{CONF_PATH}/include -lm -L{CONF_PATH}/lib64 -lbh {IN} -o {OUT}\"\n",
      "\n",
      "/opt/conda/envs/python2/bin/python\n"
     ]
    },
    {
     "data": {
      "text/plain": [
       "<matplotlib.figure.Figure at 0x7f798338f790>"
      ]
     },
     "metadata": {},
     "output_type": "display_data"
    }
   ],
   "source": [
    "import veros\n",
    "from veros import runtime_settings as rs\n",
    "from veros.setup.north_atlantic import NorthAtlanticSetup\n",
    "sim = NorthAtlanticSetup(override=dict(nx=100, ny=100, nz=50))\n",
    "sim.state.diskless_mode = True\n",
    "sim.setup()\n",
    "sim.state.runlen = sim.state.dt_tracer\n",
    "sim.run()"
   ]
  }
 ],
 "metadata": {
  "kernelspec": {
   "display_name": "Python 2",
   "language": "python",
   "name": "python2"
  },
  "language_info": {
   "codemirror_mode": {
    "name": "ipython",
    "version": 2
   },
   "file_extension": ".py",
   "mimetype": "text/x-python",
   "name": "python",
   "nbconvert_exporter": "python",
   "pygments_lexer": "ipython2",
   "version": "2.7.14"
  }
 },
 "nbformat": 4,
 "nbformat_minor": 2
}
