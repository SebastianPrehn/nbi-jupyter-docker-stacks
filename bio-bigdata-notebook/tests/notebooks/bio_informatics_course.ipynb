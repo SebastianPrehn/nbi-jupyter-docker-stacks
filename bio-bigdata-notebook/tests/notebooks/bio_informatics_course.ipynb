{
 "cells": [
  {
   "cell_type": "code",
   "execution_count": null,
   "source": [
    "# Packages\n",
    "library(apeglm)\n",
    "library(vsn)\n",
    "library(tidyverse)\n",
    "library(DESeq2)\n",
    "library(ggplot2)\n",
    "library(hexbin)\n",
    "library(BiocParallel)\n",
    "library(DESeq2)"
   ],
   "outputs": [],
   "metadata": {}
  },
  {
   "cell_type": "markdown",
   "source": [],
   "metadata": {}
  }
 ],
 "metadata": {
  "language_info": {
   "name": "python"
  }
 },
 "nbformat": 4,
 "nbformat_minor": 2
}