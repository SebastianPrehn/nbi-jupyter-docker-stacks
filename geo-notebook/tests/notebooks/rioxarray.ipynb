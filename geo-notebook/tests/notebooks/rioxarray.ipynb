{
 "cells": [
  {
   "cell_type": "code",
   "execution_count": null,
   "metadata": {},
   "outputs": [],
   "source": [
    "import rioxarray as rio\n",
    "import matplotlib.pyplot as plt"
   ]
  },
  {
   "cell_type": "code",
   "execution_count": null,
   "metadata": {},
   "outputs": [],
   "source": [
    "fname = \"https://sid.erda.dk/share_redirect/D67kSJ8fSX/Optical/greenland-modis-median-julyaugust-250m-jpg.tif\"\n",
    "greenland = rio.open_rasterio(fname, masked=True)\n",
    "greenland = (\n",
    "    greenland.coarsen(x=10, boundary=\"trim\")\n",
    "    .mean()\n",
    "    .coarsen(y=10, boundary=\"trim\")\n",
    "    .mean()\n",
    ")  # downsample to make plotting faster\n",
    "(greenland / 255).plot.imshow()\n",
    "plt.axis(\"equal\")"
   ]
  }
 ],
 "metadata": {
  "language_info": {
   "name": "python"
  },
  "orig_nbformat": 4
 },
 "nbformat": 4,
 "nbformat_minor": 2
}
