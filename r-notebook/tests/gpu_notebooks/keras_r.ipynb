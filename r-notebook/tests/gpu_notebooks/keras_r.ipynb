{
 "cells": [
  {
   "cell_type": "code",
   "execution_count": null,
   "metadata": {
    "collapsed": true
   },
   "outputs": [],
   "source": [
    "# # Simple test calls to keras\n",
    "# # https://keras.rstudio.com/\n",
    "# library(keras)\n",
    "# mnist <- dataset_mnist()\n",
    "# x_train <- mnist$train$x\n",
    "# y_train <- mnist$train$y\n",
    "# x_test <- mnist$test$x\n",
    "# y_test <- mnist$test$y"
   ]
  }
 ],
 "metadata": {
  "kernelspec": {
   "display_name": "PyCharm (nbi-jupyter-docker-stacks)",
   "language": "python",
   "name": "pycharm-4c987245"
  },
  "language_info": {
   "codemirror_mode": {
    "name": "ipython",
    "version": 2
   },
   "file_extension": ".py",
   "mimetype": "text/x-python",
   "name": "python",
   "nbconvert_exporter": "python",
   "pygments_lexer": "ipython2",
   "version": "2.7.6"
  },
  "pycharm": {
   "stem_cell": {
    "cell_type": "raw",
    "metadata": {
     "collapsed": false
    },
    "source": []
   }
  }
 },
 "nbformat": 4,
 "nbformat_minor": 0
}
