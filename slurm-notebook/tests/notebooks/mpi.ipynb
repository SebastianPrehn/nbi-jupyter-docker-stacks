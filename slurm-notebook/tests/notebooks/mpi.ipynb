{
 "metadata": {
  "language_info": {
   "codemirror_mode": {
    "name": "ipython",
    "version": 3
   },
   "file_extension": ".py",
   "mimetype": "text/x-python",
   "name": "python",
   "nbconvert_exporter": "python",
   "pygments_lexer": "ipython3",
   "version": 3
  },
  "orig_nbformat": 2
 },
 "nbformat": 4,
 "nbformat_minor": 2,
 "cells": [
  {
   "cell_type": "code",
   "execution_count": null,
   "metadata": {},
   "outputs": [],
   "source": [
    "import subprocess\n",
    "import os\n",
    "\n",
    "HERE = os.getcwd()\n",
    "commands = ['mpic++', 'mpicc']"
   ]
  },
  {
   "cell_type": "code",
   "execution_count": null,
   "metadata": {},
   "outputs": [],
   "source": [
    "# Do they exist in path\n",
    "for cmd in commands:\n",
    "    result = subprocess.call([\"which\", cmd])\n",
    "    assert result == 0"
   ]
  },
  {
   "cell_type": "code",
   "execution_count": null,
   "metadata": {},
   "outputs": [],
   "source": [
    "for cmd in commands:\n",
    "    # Will raise ProcessError if error\n",
    "    subprocess.run([cmd, \"--version\"], check=True)"
   ]
  },
  {
   "cell_type": "code",
   "execution_count": null,
   "metadata": {},
   "outputs": [],
   "source": [
    "# Compilation tests"
   ]
  },
  {
   "cell_type": "code",
   "execution_count": null,
   "metadata": {},
   "outputs": [],
   "source": [
    "SRC_DIR = os.path.join(HERE, \"..\", \"src\")\n",
    "programs = {\n",
    "    \"mpic++\": {os.path.join(SRC_DIR, \"mpi.cpp\"): \".cpp\"},\n",
    "    \"mpicc\": {os.path.join(SRC_DIR, \"mpi.c\"): \".c\"}\n",
    "}\n",
    "\n",
    "for cmd in commands:\n",
    "    cmd_programs = programs[cmd]\n",
    "    for program, ext in cmd_programs.items():\n",
    "        subprocess.run([cmd, program, \"-o\", program.strip(ext)], check=True)\n",
    "        subprocess.run([program.strip(ext)], check=True)\n"
   ]
  }
 ]
}