{
 "metadata": {
  "language_info": {
   "codemirror_mode": {
    "name": "ipython",
    "version": 3
   },
   "file_extension": ".py",
   "mimetype": "text/x-python",
   "name": "python",
   "nbconvert_exporter": "python",
   "pygments_lexer": "ipython3",
   "version": "3.7.3"
  },
  "orig_nbformat": 2,
  "kernelspec": {
   "name": "python373jvsc74a57bd031f2aee4e71d21fbe5cf8b01ff0e069b9275f58929596ceb00d14d90e3e16cd6",
   "display_name": "Python 3.7.3 64-bit"
  },
  "metadata": {
   "interpreter": {
    "hash": "31f2aee4e71d21fbe5cf8b01ff0e069b9275f58929596ceb00d14d90e3e16cd6"
   }
  }
 },
 "nbformat": 4,
 "nbformat_minor": 2,
 "cells": [
  {
   "cell_type": "code",
   "execution_count": 1,
   "metadata": {},
   "outputs": [],
   "source": [
    "import os\n",
    "import subprocess\n",
    "\n",
    "HERE = os.getcwd()\n",
    "versions = [8, 9, 10]\n",
    "commands = ['g++-{}']"
   ]
  },
  {
   "cell_type": "code",
   "execution_count": null,
   "metadata": {},
   "outputs": [],
   "source": [
    "for cmd in commands:\n",
    "    for version in versions:\n",
    "        subprocess.run([\"which\", cmd.format(version)], check=True)"
   ]
  },
  {
   "cell_type": "code",
   "execution_count": null,
   "metadata": {},
   "outputs": [],
   "source": [
    "for cmd in commands:\n",
    "    for version in versions:\n",
    "        # Will raise ProcessError if error\n",
    "        subprocess.run([cmd.format(version), \"--version\"], check=True)"
   ]
  },
  {
   "cell_type": "code",
   "execution_count": null,
   "metadata": {},
   "outputs": [],
   "source": [
    "# Compilation tests"
   ]
  },
  {
   "cell_type": "code",
   "execution_count": null,
   "metadata": {},
   "outputs": [],
   "source": [
    "SRC_DIR = os.path.join(HERE, \"..\", \"src\")\n",
    "programs = {os.path.join(SRC_DIR, \"hello_world.cpp\"): \".cpp\"}\n",
    "\n",
    "for cmd in commands:\n",
    "    for version in versions:\n",
    "        for program, ext in programs.items():\n",
    "            subprocess.run([cmd.format(version), program, \"-o\", program.strip(ext)], check=True)\n",
    "            subprocess.run([program.strip(ext)], check=True)\n"
   ]
  }
 ]
}