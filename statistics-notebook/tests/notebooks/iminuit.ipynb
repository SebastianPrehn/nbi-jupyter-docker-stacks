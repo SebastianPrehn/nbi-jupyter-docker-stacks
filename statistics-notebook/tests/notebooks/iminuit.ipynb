{
 "cells": [
  {
   "cell_type": "code",
   "execution_count": null,
   "metadata": {
    "collapsed": true
   },
   "outputs": [],
   "source": [
    "from iminuit import Minuit\n",
    "\n",
    "\n",
    "def f(x, y, z):\n",
    "    return (x - 2) ** 2 + (y - 3) ** 2 + (z - 4) ** 2\n",
    "\n",
    "\n",
    "m = Minuit(f)\n",
    "\n",
    "m.migrad()  # run optimiser\n",
    "print(m.values)  # {'x': 2,'y': 3,'z': 4}\n",
    "\n",
    "m.hesse()   # run covariance estimator\n",
    "print(m.errors)  # {'x': 1,'y': 1,'z': 1}"
   ]
  }
 ],
 "metadata": {
  "kernelspec": {
   "display_name": "Python 2",
   "language": "python",
   "name": "python2"
  },
  "language_info": {
   "codemirror_mode": {
    "name": "ipython",
    "version": 2
   },
   "file_extension": ".py",
   "mimetype": "text/x-python",
   "name": "python",
   "nbconvert_exporter": "python",
   "pygments_lexer": "ipython2",
   "version": "2.7.6"
  }
 },
 "nbformat": 4,
 "nbformat_minor": 0
}
