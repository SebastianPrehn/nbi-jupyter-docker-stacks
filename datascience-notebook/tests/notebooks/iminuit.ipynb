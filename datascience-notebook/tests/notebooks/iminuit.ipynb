{
 "cells": [
  {
   "cell_type": "code",
   "execution_count": 2,
   "metadata": {},
   "outputs": [
    {
     "name": "stdout",
     "output_type": "stream",
     "text": [
      "<ValueView x=1.999999999089988 y=3.000000000125265 z=3.99999999757373>\n",
      "<ErrorView x=1.0000000000007485 y=1.0000000000008173 z=0.9999999999991194>\n"
     ]
    }
   ],
   "source": [
    "from iminuit import Minuit\n",
    "\n",
    "\n",
    "def cost_function(x, y, z):\n",
    "    return (x - 2) ** 2 + (y - 3) ** 2 + (z - 4) ** 2\n",
    "\n",
    "\n",
    "cost_function.errordef = Minuit.LEAST_SQUARES\n",
    "\n",
    "m = Minuit(cost_function, x=0, y=0, z=0)\n",
    "\n",
    "m.migrad()  # run optimiser\n",
    "print(m.values)  # x: 2, y: 3, z: 4\n",
    "\n",
    "m.hesse()  # run covariance estimator\n",
    "print(m.errors)  # x: 1, y: 1, z: 1"
   ]
  }
 ],
 "metadata": {
  "interpreter": {
   "hash": "8ada5689e142d89821ccb90ca0e377431c9bbcec6870e13fc399ebf1bddacae4"
  },
  "kernelspec": {
   "display_name": "Python 3.8.5 ('base')",
   "language": "python",
   "name": "python3"
  },
  "language_info": {
   "codemirror_mode": {
    "name": "ipython",
    "version": 3
   },
   "file_extension": ".py",
   "mimetype": "text/x-python",
   "name": "python",
   "nbconvert_exporter": "python",
   "pygments_lexer": "ipython3",
   "version": "3.8.5"
  },
  "orig_nbformat": 4
 },
 "nbformat": 4,
 "nbformat_minor": 2
}
