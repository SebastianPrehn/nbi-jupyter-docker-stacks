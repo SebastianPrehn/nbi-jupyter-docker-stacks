{
 "cells": [
  {
   "cell_type": "code",
   "execution_count": null,
   "metadata": {},
   "outputs": [],
   "source": [
    "try:\n",
    "    import tensorflow.compat.v1 as tf\n",
    "\n",
    "    tf.disable_v2_behavior()\n",
    "except ImportError as err:\n",
    "    print(\"Failed to import tensorflow %s\" % str(err))\n",
    "    exit(0)"
   ]
  },
  {
   "cell_type": "code",
   "execution_count": null,
   "metadata": {},
   "outputs": [],
   "source": [
    "hello = tf.constant(\"Hello, TensorFlow!\")\n",
    "sess = tf.Session()\n",
    "assert sess.run(hello) == b\"Hello, TensorFlow!\"\n",
    "a = tf.constant(10)\n",
    "b = tf.constant(32)\n",
    "assert sess.run(a + b) == 42\n",
    "sess.close()"
   ]
  },
  {
   "cell_type": "code",
   "execution_count": null,
   "metadata": {},
   "outputs": [],
   "source": [
    "import numpy\n",
    "import matplotlib.pyplot as plt\n",
    "\n",
    "rng = numpy.random"
   ]
  },
  {
   "cell_type": "code",
   "execution_count": null,
   "metadata": {},
   "outputs": [],
   "source": [
    "# # Parameters\n",
    "learning_rate = 0.01\n",
    "training_epochs = 1000\n",
    "display_step = 50"
   ]
  },
  {
   "cell_type": "code",
   "execution_count": null,
   "metadata": {},
   "outputs": [],
   "source": [
    "# # Training Data\n",
    "train_X = numpy.asarray(\n",
    "    [\n",
    "        3.3,\n",
    "        4.4,\n",
    "        5.5,\n",
    "        6.71,\n",
    "        6.93,\n",
    "        4.168,\n",
    "        9.779,\n",
    "        6.182,\n",
    "        7.59,\n",
    "        2.167,\n",
    "        7.042,\n",
    "        10.791,\n",
    "        5.313,\n",
    "        7.997,\n",
    "        5.654,\n",
    "        9.27,\n",
    "        3.1,\n",
    "    ]\n",
    ")\n",
    "train_Y = numpy.asarray(\n",
    "    [\n",
    "        1.7,\n",
    "        2.76,\n",
    "        2.09,\n",
    "        3.19,\n",
    "        1.694,\n",
    "        1.573,\n",
    "        3.366,\n",
    "        2.596,\n",
    "        2.53,\n",
    "        1.221,\n",
    "        2.827,\n",
    "        3.465,\n",
    "        1.65,\n",
    "        2.904,\n",
    "        2.42,\n",
    "        2.94,\n",
    "        1.3,\n",
    "    ]\n",
    ")\n",
    "n_samples = train_X.shape[0]"
   ]
  },
  {
   "cell_type": "code",
   "execution_count": null,
   "metadata": {},
   "outputs": [],
   "source": [
    "# # tf Graph Input\n",
    "X = tf.placeholder(\"float\")\n",
    "Y = tf.placeholder(\"float\")\n",
    "\n",
    "# Set model weights\n",
    "W = tf.Variable(rng.randn(), name=\"weight\")\n",
    "b = tf.Variable(rng.randn(), name=\"bias\")"
   ]
  },
  {
   "cell_type": "code",
   "execution_count": null,
   "metadata": {},
   "outputs": [],
   "source": [
    "# # Construct a linear model\n",
    "pred = tf.add(tf.multiply(X, W), b)"
   ]
  }
 ],
 "metadata": {
  "kernelspec": {
   "display_name": "Python 3",
   "language": "python",
   "name": "python3"
  },
  "language_info": {
   "codemirror_mode": {
    "name": "ipython",
    "version": 3
   },
   "file_extension": ".py",
   "mimetype": "text/x-python",
   "name": "python",
   "nbconvert_exporter": "python",
   "pygments_lexer": "ipython3",
   "version": "3.6.2"
  },
  "pycharm": {
   "stem_cell": {
    "cell_type": "raw",
    "source": [],
    "metadata": {
     "collapsed": false
    }
   }
  }
 },
 "nbformat": 4,
 "nbformat_minor": 2
}