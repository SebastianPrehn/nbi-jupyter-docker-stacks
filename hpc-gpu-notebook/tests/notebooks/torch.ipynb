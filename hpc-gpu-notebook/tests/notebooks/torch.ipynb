{
 "cells": [
  {
   "cell_type": "code",
   "execution_count": null,
   "metadata": {
    "collapsed": true
   },
   "outputs": [],
   "source": [
    "import torch\n",
    "from torch.nn.functional import relu\n",
    "import torchvision\n",
    "import torchvision.transforms as transforms\n",
    "\n",
    "class SimpleNet(torch.nn.Module):\n",
    "    def __init__(self, D_in, H, D_out):\n",
    "        super(SimpleNet, self).__init__()\n",
    "        self.linear1 = torch.nn.Linear(D_in, H)\n",
    "        self.linear2 = torch.nn.Linear(H, D_out)\n",
    "\n",
    "    def forward(self, x):\n",
    "        return self.linear2(relu(self.linear1(x)))\n",
    "\n",
    "f = SimpleNet(30, 20, 1)\n",
    "\n",
    "losses = []\n",
    "optimizer = torch.optim.Adam(f.parameters(), lr=5e-3)\n",
    "\n",
    "batch_size = 200\n",
    "for epoch in range(1000):\n",
    "    # Take some data\n",
    "    x = torch.randn(batch_size, 30)\n",
    "\n",
    "    # Calculate result of network\n",
    "    y = f(x)\n",
    "\n",
    "    # Compare with true result\n",
    "    true_y = torch.mean(x, dim=1)[:, None]\n",
    "\n",
    "    # Calculate loss\n",
    "    loss = torch.sum((y - true_y)**2)\n",
    "\n",
    "    # Calculate gradients based on loss\n",
    "    loss.backward()\n",
    "    losses.append(loss.detach().cpu().numpy())\n",
    "\n",
    "    # Update weights\n",
    "    optimizer.step()\n",
    "\n",
    "    # Zero gradients\n",
    "    optimizer.zero_grad()\n",
    "\n",
    "# Plot\n",
    "import matplotlib.pyplot as plt\n",
    "plt.plot(losses)\n",
    "plt.gca().set_yscale('log')\n",
    "plt.xlabel('Epoch')\n",
    "plt.ylabel('Loss')\n",
    "plt.show()"
   ]
  },
  {
   "cell_type": "code",
   "execution_count": null,
   "outputs": [],
   "source": [],
   "metadata": {
    "collapsed": false,
    "pycharm": {
     "name": "#%%"
    }
   }
  }
 ],
 "metadata": {
  "language_info": {
   "codemirror_mode": {
    "name": "ipython",
    "version": 2
   },
   "file_extension": ".py",
   "mimetype": "text/x-python",
   "name": "python",
   "nbconvert_exporter": "python",
   "pygments_lexer": "ipython2",
   "version": "2.7.6"
  },
  "kernelspec": {
   "name": "python3",
   "language": "python",
   "display_name": "PyCharm (nbi-jupyter-docker-stacks)"
  },
  "pycharm": {
   "stem_cell": {
    "cell_type": "raw",
    "source": [],
    "metadata": {
     "collapsed": false
    }
   }
  }
 },
 "nbformat": 4,
 "nbformat_minor": 0
}