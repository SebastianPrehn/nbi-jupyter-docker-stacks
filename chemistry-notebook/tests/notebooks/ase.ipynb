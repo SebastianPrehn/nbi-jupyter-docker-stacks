{
 "cells": [
  {
   "cell_type": "code",
   "execution_count": 5,
   "metadata": {},
   "outputs": [],
   "source": [
    "# Example: structure optimization of hydrogen molecule\n",
    "from ase import Atoms\n",
    "from ase.optimize import BFGS\n",
    "from ase.calculators.nwchem import NWChem\n",
    "from ase.io import write\n",
    "\n",
    "h2 = Atoms(\"H2\", positions=[[0, 0, 0], [0, 0, 0.7]])"
   ]
  }
 ],
 "metadata": {
  "kernelspec": {
   "display_name": "Python 2",
   "language": "python",
   "name": "python2"
  },
  "language_info": {
   "codemirror_mode": {
    "name": "ipython",
    "version": 2
   },
   "file_extension": ".py",
   "mimetype": "text/x-python",
   "name": "python",
   "nbconvert_exporter": "python",
   "pygments_lexer": "ipython2",
   "version": "2.7.15"
  }
 },
 "nbformat": 4,
 "nbformat_minor": 2
}
