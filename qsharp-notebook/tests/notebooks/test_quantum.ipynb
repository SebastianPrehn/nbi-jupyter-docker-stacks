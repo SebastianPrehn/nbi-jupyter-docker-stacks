{
 "cells": [
  {
   "cell_type": "code",
   "execution_count": null,
   "metadata": {
    "vscode": {
     "languageId": "qsharp"
    }
   },
   "outputs": [],
   "source": [
    "# From https://github.com/microsoft/qsharp/wiki/Working-with-Jupyter-Notebooks\n",
    "import qsharp"
   ]
  },
  {
   "cell_type": "code",
   "execution_count": null,
   "metadata": {
    "vscode": {
     "languageId": "qsharp"
    }
   },
   "outputs": [],
   "source": [
    "\n",
    "%%qsharp\n",
    "// This makes the DumpMachine() function available.\n",
    "open Microsoft.Quantum.Diagnostics;\n",
    "\n",
    "operation RandomBit() : Result {\n",
    "    // Qubits are only accesible for the duration of the scope where they\n",
    "    // are allocated and are automatically released at the end of the scope.\n",
    "    use qubit = Qubit();\n",
    "\n",
    "    // Set the qubit in superposition by applying a Hadamard transformation.\n",
    "    H(qubit);\n",
    "\n",
    "    DumpMachine();\n",
    "\n",
    "    // Measure the qubit. There is a 50% probability of measuring either\n",
    "    // `Zero` or `One`.\n",
    "    let result = M(qubit);\n",
    "\n",
    "    Message($\"The result of the measurement is {result}.\");\n",
    "\n",
    "    // Reset the qubit so it can be safely released.\n",
    "    Reset(qubit);\n",
    "    return result;\n",
    "}\n",
    "\n",
    "// Call the operation we defined above.\n",
    "RandomBit();"
   ]
  },
  {
   "cell_type": "code",
   "execution_count": null,
   "metadata": {
    "vscode": {
     "languageId": "plaintext"
    }
   },
   "outputs": [],
   "source": [
    "r = qsharp.eval(\"RandomBit()\")\n",
    "\n",
    "if r == qsharp.Result.One:\n",
    "    i = 1\n",
    "else:\n",
    "    i = 0\n",
    "\n",
    "print(f\"Python: Got integer {i}!\")"
   ]
  },
  {
   "cell_type": "code",
   "execution_count": null,
   "metadata": {
    "vscode": {
     "languageId": "plaintext"
    }
   },
   "outputs": [],
   "source": [
    "results = qsharp.run(\"RandomBit()\", shots=1000)"
   ]
  },
  {
   "cell_type": "code",
   "execution_count": null,
   "metadata": {
    "vscode": {
     "languageId": "plaintext"
    }
   },
   "outputs": [],
   "source": [
    "%matplotlib widget\n",
    "\n",
    "import matplotlib.pyplot as plt\n",
    "import numpy as np\n",
    "from collections import Counter\n",
    "\n",
    "# Sort the results so that the histogram labels appear in the correct order\n",
    "results.sort()\n",
    "# Count the number of times each result appears\n",
    "counts = Counter(results)\n",
    "\n",
    "(values, counts) = counts.keys(), counts.values()\n",
    "xlabels = np.arange(len(counts))\n",
    "plt.title(\"RandomBit() Results\")\n",
    "plt.bar(xlabels, counts)\n",
    "plt.xticks(xlabels, values)\n",
    "plt.show()"
   ]
  }
 ],
 "metadata": {
  "kernelspec": {
   "display_name": "Q#",
   "language": "qsharp",
   "name": "iqsharp"
  },
  "language_info": {
   "name": ""
  }
 },
 "nbformat": 4,
 "nbformat_minor": 4
}
