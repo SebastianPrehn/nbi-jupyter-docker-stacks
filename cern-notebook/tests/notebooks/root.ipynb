{
 "cells": [
  {
   "cell_type": "code",
   "execution_count": null,
   "id": "9b35f88f-f44a-495a-99ff-ec3dd4b4d642",
   "metadata": {},
   "outputs": [],
   "source": [
    "import ROOT"
   ]
  },
  {
   "cell_type": "code",
   "execution_count": null,
   "id": "e8b629fb-78c5-4395-802a-6932e3d6fd3d",
   "metadata": {},
   "outputs": [],
   "source": [
    "h = ROOT.TH1F(\"gauss\", \"Example histogram\", 100, -4, 4)\n",
    "h.FillRandom(\"gaus\")"
   ]
  },
  {
   "cell_type": "code",
   "execution_count": null,
   "id": "9b94b290-ab70-47c2-8840-d2f2aca5d088",
   "metadata": {},
   "outputs": [],
   "source": [
    "c = ROOT.TCanvas(\"myCanvasName\", \"The Canvas Title\", 800, 600)\n",
    "h.Draw()"
   ]
  },
  {
   "cell_type": "code",
   "execution_count": null,
   "id": "db36c8ea-1a19-499a-88f0-d6cc9d5ef36b",
   "metadata": {},
   "outputs": [],
   "source": [
    "c.Draw()"
   ]
  },
  {
   "cell_type": "code",
   "execution_count": null,
   "id": "e8d642e4-98e9-4d03-9db6-1dc28ea9fed4",
   "metadata": {},
   "outputs": [],
   "source": [
    "%jsroot on\n",
    "c.Draw()"
   ]
  },
  {
   "cell_type": "code",
   "execution_count": null,
   "id": "ecc1b819-0e36-4aae-a9a9-b79ab9e99287",
   "metadata": {},
   "outputs": [],
   "source": [
    "%%cpp\n",
    "cout << \"This is a C++ cell\" << endl;"
   ]
  }
 ],
 "metadata": {
  "kernelspec": {
   "display_name": "Python 3 (ipykernel)",
   "language": "python",
   "name": "python3"
  },
  "language_info": {
   "codemirror_mode": {
    "name": "ipython",
    "version": 3
   },
   "file_extension": ".py",
   "mimetype": "text/x-python",
   "name": "python",
   "nbconvert_exporter": "python",
   "pygments_lexer": "ipython3",
   "version": "3.11.7"
  }
 },
 "nbformat": 4,
 "nbformat_minor": 5
}
