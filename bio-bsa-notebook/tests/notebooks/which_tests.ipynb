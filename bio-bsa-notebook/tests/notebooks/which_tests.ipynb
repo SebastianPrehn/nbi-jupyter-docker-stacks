{
 "cells": [
  {
   "cell_type": "code",
   "execution_count": null,
   "source": [
    "import subprocess\n"
   ],
   "outputs": [],
   "metadata": {}
  },
  {
   "cell_type": "code",
   "execution_count": null,
   "source": [
    "\n",
    "commands = ['fastqc', 'needle', 'bwa', 'samtools', 'trainanhmm', 'decodeanhmm']\n",
    "for cmd in commands:\n",
    "    subprocess.run([\"which\", cmd], check=True)"
   ],
   "outputs": [],
   "metadata": {}
  }
 ],
 "metadata": {
  "language_info": {
   "name": "python"
  }
 },
 "nbformat": 4,
 "nbformat_minor": 2
}