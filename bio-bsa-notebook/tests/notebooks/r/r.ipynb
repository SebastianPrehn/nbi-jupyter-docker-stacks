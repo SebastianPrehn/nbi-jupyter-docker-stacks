{
 "cells": [
  {
   "cell_type": "code",
   "execution_count": null,
   "metadata": {},
   "outputs": [],
   "source": [
    "# Get a random log-normal distribution\n",
    "r <- rlnorm(1000)\n",
    "\n",
    "# Get the distribution without plotting it using tighter breaks\n",
    "h <- hist(r, plot=F, breaks=c(seq(0,max(r)+1, .1)))\n",
    "\n",
    "# Plot the distribution using log scale on both axes, and use\n",
    "# blue points\n",
    "plot(h$counts, log=\"xy\", pch=20, col=\"blue\",\n",
    "\t main=\"Log-normal distribution\",\n",
    "\t xlab=\"Value\", ylab=\"Frequency\")"
   ]
  },
  {
   "cell_type": "code",
   "execution_count": null,
   "metadata": {},
   "outputs": [],
   "source": [
    "# Define cars vector with 5 values\n",
    "cars <-c (1, 3, 6, 4, 9)\n",
    "\n",
    "# Create a pie chart for cars\n",
    "pie(cars)"
   ]
  }
 ],
 "metadata": {
  "kernelspec": {
   "display_name": "Python 3.8.9 ('venv': venv)",
   "language": "python",
   "name": "python3"
  },
  "language_info": {
   "name": "python",
   "version": "3.8.9"
  },
  "vscode": {
   "interpreter": {
    "hash": "1cde3a5b1bbd1885b79c1679fd931742e99efa04511949f4271f0cdd5f33659b"
   }
  }
 },
 "nbformat": 4,
 "nbformat_minor": 2
}
