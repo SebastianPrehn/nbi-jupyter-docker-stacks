{
 "cells": [
  {
   "cell_type": "code",
   "execution_count": null,
   "metadata": {},
   "outputs": [],
   "source": [
    "import subprocess\n",
    "import copy"
   ]
  },
  {
   "cell_type": "code",
   "execution_count": null,
   "metadata": {},
   "outputs": [],
   "source": [
    "# These commands should be available in the r environments\n",
    "environment = \"r\"\n",
    "commands = ['fastqc', 'needle', 'bwa', 'samtools', 'trainanhmm', 'decodeanhmm']\n",
    "# Source the conda list of envioronments\n",
    "source_command = [\"source /opt/conda/etc/profile.d/conda.sh\"]\n",
    "\n",
    "for cmd in commands:\n",
    "    run_cmd = copy.deepcopy(source_command)\n",
    "    output = subprocess.run(run_cmd, shell=True, executable=\"/bin/bash\",\n",
    "                            check=True, capture_output=True)\n",
    "\n",
    "    assert b'usage' not in output.stdout\n",
    "    assert output.returncode == 0"
   ]
  },
  {
   "cell_type": "code",
   "execution_count": null,
   "metadata": {},
   "outputs": [],
   "source": [
    "\n",
    "# commands = ['fastqc', 'needle', 'bwa', 'samtools', 'trainanhmm', 'decodeanhmm']\n",
    "# for cmd in commands:\n",
    "#     subprocess.run([\"which\", cmd], check=True)"
   ]
  }
 ],
 "metadata": {
  "language_info": {
   "name": "python"
  }
 },
 "nbformat": 4,
 "nbformat_minor": 2
}
