{
 "cells": [
  {
   "cell_type": "code",
   "execution_count": 8,
   "id": "5c2fdf11-14f8-4c2d-84ff-7bfcc5574136",
   "metadata": {},
   "outputs": [],
   "source": [
    "using Test"
   ]
  },
  {
   "cell_type": "code",
   "execution_count": 9,
   "id": "243af859-da14-491f-8c11-f2b696f9e7a3",
   "metadata": {},
   "outputs": [
    {
     "data": {
      "text/plain": [
       "\u001b[32m\u001b[1mTest Passed\u001b[22m\u001b[39m"
      ]
     },
     "execution_count": 9,
     "metadata": {},
     "output_type": "execute_result"
    }
   ],
   "source": [
    "@test 2 == 3 - 1"
   ]
  },
  {
   "cell_type": "code",
   "execution_count": 10,
   "id": "822a2ad9-0002-4f3c-9c3c-a05e8912f3fe",
   "metadata": {},
   "outputs": [
    {
     "data": {
      "text/plain": [
       "\u001b[32m\u001b[1mTest Passed\u001b[22m\u001b[39m"
      ]
     },
     "execution_count": 10,
     "metadata": {},
     "output_type": "execute_result"
    }
   ],
   "source": [
    "a = pi * (12.34 / 2)^2\n",
    "@test a == 119.59697657024448"
   ]
  },
  {
   "cell_type": "code",
   "execution_count": 14,
   "id": "d84ed396-f504-486a-974f-a68da183947b",
   "metadata": {},
   "outputs": [
    {
     "data": {
      "text/plain": [
       "\u001b[32m\u001b[1mTest Passed\u001b[22m\u001b[39m"
      ]
     },
     "execution_count": 14,
     "metadata": {},
     "output_type": "execute_result"
    }
   ],
   "source": [
    "@test [1, 2] + [2, 1] == [3, 3]"
   ]
  },
  {
   "cell_type": "code",
   "execution_count": 20,
   "id": "0068040e-95fc-455d-bd36-3e24b88f7cf9",
   "metadata": {},
   "outputs": [
    {
     "data": {
      "text/plain": [
       "\u001b[32m\u001b[1mTest Passed\u001b[22m\u001b[39m"
      ]
     },
     "execution_count": 20,
     "metadata": {},
     "output_type": "execute_result"
    }
   ],
   "source": [
    "@test π ≈ 3.14 atol=0.01"
   ]
  }
 ],
 "metadata": {
  "kernelspec": {
   "display_name": "Julia 1.9.4",
   "language": "julia",
   "name": "julia-1.9"
  },
  "language_info": {
   "file_extension": ".jl",
   "mimetype": "application/julia",
   "name": "julia",
   "version": "1.9.4"
  }
 },
 "nbformat": 4,
 "nbformat_minor": 5
}
