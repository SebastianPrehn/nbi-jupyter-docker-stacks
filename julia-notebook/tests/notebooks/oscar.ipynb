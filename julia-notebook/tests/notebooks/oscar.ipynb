{
 "cells": [
  {
   "cell_type": "code",
   "execution_count": 5,
   "id": "2d6b4885-df38-400e-a1fd-27ff2a75356a",
   "metadata": {},
   "outputs": [],
   "source": [
    "using Oscar\n",
    "using Test"
   ]
  },
  {
   "cell_type": "code",
   "execution_count": 6,
   "id": "5f93d3e1-6885-4525-9967-1fdfec5a2feb",
   "metadata": {},
   "outputs": [
    {
     "data": {
      "text/plain": [
       "\"abb\""
      ]
     },
     "execution_count": 6,
     "metadata": {},
     "output_type": "execute_result"
    }
   ],
   "source": [
    "using Oscar.StraightLinePrograms; const SLP = Oscar.StraightLinePrograms;\n",
    "\n",
    "x, y, z = SLP.gens(SLProgram, 3);\n",
    "\n",
    "p = (x*y^2 + 1.3*z)^-1\n",
    "\n",
    "X, Y, Z = SLP.gens(Lazy, 3)\n",
    "\n",
    "test1 = SLP.evaluate(p, [2.0, 3.0, 5.0])\n",
    "\n",
    "test2 = SLP.evaluate(X*Y^2, ['a', 'b'])"
   ]
  },
  {
   "cell_type": "code",
   "execution_count": 7,
   "id": "e1b1b28b-1d1b-429a-a13a-e1efd12e589b",
   "metadata": {},
   "outputs": [
    {
     "data": {
      "text/plain": [
       "\u001b[32m\u001b[1mTest Passed\u001b[22m\u001b[39m"
      ]
     },
     "execution_count": 7,
     "metadata": {},
     "output_type": "execute_result"
    }
   ],
   "source": [
    "@test test1 == 0.04081632653061224"
   ]
  },
  {
   "cell_type": "code",
   "execution_count": 8,
   "id": "93b9ded1-693b-4b01-bfee-930747df0ec0",
   "metadata": {},
   "outputs": [
    {
     "data": {
      "text/plain": [
       "\u001b[32m\u001b[1mTest Passed\u001b[22m\u001b[39m"
      ]
     },
     "execution_count": 8,
     "metadata": {},
     "output_type": "execute_result"
    }
   ],
   "source": [
    "@test test2 == \"abb\""
   ]
  }
 ],
 "metadata": {
  "kernelspec": {
   "display_name": "Julia 1.9.4",
   "language": "julia",
   "name": "julia-1.9"
  },
  "language_info": {
   "file_extension": ".jl",
   "mimetype": "application/julia",
   "name": "julia",
   "version": "1.9.4"
  }
 },
 "nbformat": 4,
 "nbformat_minor": 5
}
