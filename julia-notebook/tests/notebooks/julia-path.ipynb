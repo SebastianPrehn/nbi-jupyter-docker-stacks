{
 "cells": [
  {
   "cell_type": "code",
   "execution_count": null,
   "id": "eca841cd-661f-4430-8a94-dedc27accf8d",
   "metadata": {},
   "outputs": [],
   "source": [
    "using Test\n",
    "\n",
    "mycommand = `which julia`\n",
    "\n",
    "x = String(string(run(mycommand)))"
   ]
  },
  {
   "cell_type": "code",
   "execution_count": null,
   "id": "783e74ea-2269-48dc-9261-da8adda0aabc",
   "metadata": {},
   "outputs": [],
   "source": [
    "@test occursin(\"julia\", x)"
   ]
  }
 ],
 "metadata": {
  "kernelspec": {
   "display_name": "Python 3 (ipykernel)",
   "language": "python",
   "name": "python3"
  },
  "language_info": {
   "codemirror_mode": {
    "name": "ipython",
    "version": 3
   },
   "file_extension": ".py",
   "mimetype": "text/x-python",
   "name": "python",
   "nbconvert_exporter": "python",
   "pygments_lexer": "ipython3",
   "version": "3.12.0"
  }
 },
 "nbformat": 4,
 "nbformat_minor": 5
}
