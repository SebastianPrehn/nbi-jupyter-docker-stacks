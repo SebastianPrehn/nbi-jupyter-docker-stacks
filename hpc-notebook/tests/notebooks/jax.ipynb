{
 "cells": [
  {
   "cell_type": "code",
   "execution_count": 2,
   "metadata": {},
   "outputs": [
    {
     "name": "stdout",
     "output_type": "stream",
     "text": [
      "----\n",
      "OpenMP:\n",
      "  Hardware threads: 40\n",
      "  JIT Command: \"gcc -x c -fPIC -shared  -std=gnu99  -O3 -march=native -Werror -fopenmp -I{CONF_PATH}/include -lm -L{CONF_PATH}/lib64 -lbh {IN} -o {OUT}\"\n",
      "\n",
      "/opt/conda/envs/python2/bin/python\n"
     ]
    },
    {
     "data": {
      "text/plain": [
       "<matplotlib.figure.Figure at 0x7f798338f790>"
      ]
     },
     "metadata": {},
     "output_type": "display_data"
    }
   ],
   "source": [
    "import jax.numpy as np\n",
    "from jax import grad, jit, vmap\n",
    "\n",
    "def predict(params, inputs):\n",
    "  for W, b in params:\n",
    "    outputs = np.dot(inputs, W) + b\n",
    "    inputs = np.tanh(outputs)\n",
    "  return outputs\n",
    "\n",
    "def logprob_fun(params, inputs, targets):\n",
    "  preds = predict(params, inputs)\n",
    "  return np.sum((preds - targets)**2)\n",
    "\n",
    "grad_fun = jit(grad(logprob_fun))  # compiled gradient evaluation function\n",
    "perex_grads = jit(vmap(grad_fun, in_axes=(None, 0, 0)))  # fast per-example grads"
   ]
  }
 ],
 "metadata": {
  "kernelspec": {
   "display_name": "Python 2",
   "language": "python",
   "name": "python2"
  },
  "language_info": {
   "codemirror_mode": {
    "name": "ipython",
    "version": 2
   },
   "file_extension": ".py",
   "mimetype": "text/x-python",
   "name": "python",
   "nbconvert_exporter": "python",
   "pygments_lexer": "ipython2",
   "version": "2.7.14"
  }
 },
 "nbformat": 4,
 "nbformat_minor": 2
}