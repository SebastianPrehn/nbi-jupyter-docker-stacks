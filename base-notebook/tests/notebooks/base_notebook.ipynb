{
 "cells": [
  {
   "cell_type": "code",
   "execution_count": null,
   "metadata": {},
   "outputs": [],
   "source": [
    "import subprocess\n",
    "\n",
    "commands = [\n",
    "    \"gcc\",\n",
    "    \"make\",\n",
    "    \"perl\",\n",
    "    \"tar\",\n",
    "    \"bzip2\",\n",
    "    \"git\",\n",
    "    \"lftp\",\n",
    "    \"rsync\",\n",
    "    \"curl\",\n",
    "    \"htop\",\n",
    "    \"nano\",\n",
    "    \"vim\",\n",
    "    \"man\",\n",
    "    \"tree\",\n",
    "    \"rclone\",\n",
    "    \"unzip\",\n",
    "    \"less\",\n",
    "]"
   ]
  },
  {
   "cell_type": "code",
   "execution_count": null,
   "metadata": {},
   "outputs": [],
   "source": [
    "# Test that the commands can be found\n",
    "for cmd in commands:\n",
    "    result = subprocess.call([\"which\", cmd])\n",
    "    assert result == 0"
   ]
  },
  {
   "cell_type": "code",
   "execution_count": null,
   "metadata": {},
   "outputs": [],
   "source": []
  }
 ],
 "metadata": {
  "kernelspec": {
   "display_name": "Python 3",
   "language": "python",
   "name": "python3"
  },
  "language_info": {
   "codemirror_mode": {
    "name": "ipython",
    "version": 3
   },
   "file_extension": ".py",
   "mimetype": "text/x-python",
   "name": "python",
   "nbconvert_exporter": "python",
   "pygments_lexer": "ipython3",
   "version": "3.6.7"
  },
  "pycharm": {
   "stem_cell": {
    "cell_type": "raw",
    "source": [],
    "metadata": {
     "collapsed": false
    }
   }
  }
 },
 "nbformat": 4,
 "nbformat_minor": 2
}