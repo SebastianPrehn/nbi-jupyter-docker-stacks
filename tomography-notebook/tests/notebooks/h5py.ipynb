{
 "cells": [
  {
   "cell_type": "code",
   "execution_count": 11,
   "metadata": {},
   "outputs": [
    {
     "name": "stdout",
     "output_type": "stream",
     "text": [
      "\u001b[33mDEPRECATION: Python 2.7 will reach the end of its life on January 1st, 2020. Please upgrade your Python as Python 2.7 won't be maintained after that date. A future version of pip will drop support for Python 2.7.\u001b[0m\n",
      "Requirement already satisfied: unittest2 in /opt/conda/envs/python2/lib/python2.7/site-packages (1.1.0)\n",
      "Requirement already satisfied: argparse in /opt/conda/envs/python2/lib/python2.7/site-packages (from unittest2) (1.4.0)\n",
      "Requirement already satisfied: traceback2 in /opt/conda/envs/python2/lib/python2.7/site-packages (from unittest2) (1.4.0)\n",
      "Requirement already satisfied: six>=1.4 in /opt/conda/envs/python2/lib/python2.7/site-packages (from unittest2) (1.12.0)\n",
      "Requirement already satisfied: linecache2 in /opt/conda/envs/python2/lib/python2.7/site-packages (from traceback2->unittest2) (1.0.0)\n"
     ]
    }
   ],
   "source": [
    "!pip install unittest2"
   ]
  },
  {
   "cell_type": "code",
   "execution_count": 12,
   "metadata": {},
   "outputs": [],
   "source": [
    "from h5py import tests"
   ]
  },
  {
   "cell_type": "code",
   "execution_count": 13,
   "metadata": {},
   "outputs": [
    {
     "name": "stderr",
     "output_type": "stream",
     "text": [
      "...........s...........................................x........................................................................x....................................s/opt/conda/envs/python2/lib/python2.7/site-packages/h5py/_hl/files.py:258: H5pyDeprecationWarning: File.fid has been deprecated. Use File.id instead.\n",
      "  \"Use File.id instead.\", H5pyDeprecationWarning)\n",
      "...s......ss......................ss.....................................................................................sss..................................................................x....x.........................x......x..................................................ssss............................................................\n",
      "----------------------------------------------------------------------\n",
      "Ran 509 tests in 2.388s\n",
      "\n",
      "OK (skipped=14, expected failures=6)\n"
     ]
    }
   ],
   "source": [
    "assert tests.run_tests()"
   ]
  },
  {
   "cell_type": "code",
   "execution_count": null,
   "metadata": {},
   "outputs": [],
   "source": []
  }
 ],
 "metadata": {
  "kernelspec": {
   "display_name": "Python 2",
   "language": "python",
   "name": "python2"
  },
  "language_info": {
   "codemirror_mode": {
    "name": "ipython",
    "version": 2
   },
   "file_extension": ".py",
   "mimetype": "text/x-python",
   "name": "python",
   "nbconvert_exporter": "python",
   "pygments_lexer": "ipython2",
   "version": "2.7.15"
  }
 },
 "nbformat": 4,
 "nbformat_minor": 2
}
