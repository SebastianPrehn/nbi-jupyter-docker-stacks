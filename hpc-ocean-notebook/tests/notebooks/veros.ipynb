{
 "cells": [
  {
   "cell_type": "code",
   "execution_count": 2,
   "metadata": {},
   "outputs": [
    {
     "name": "stdout",
     "output_type": "stream",
     "text": [
      "----\n",
      "OpenMP:\n",
      "  Hardware threads: 40\n",
      "  JIT Command: \"gcc -x c -fPIC -shared  -std=gnu99  -O3 -march=native -Werror -fopenmp -I{CONF_PATH}/include -lm -L{CONF_PATH}/lib64 -lbh {IN} -o {OUT}\"\n",
      "\n",
      "/opt/conda/envs/python2/bin/python\n"
     ]
    },
    {
     "data": {
      "text/plain": [
       "<matplotlib.figure.Figure at 0x7f798338f790>"
      ]
     },
     "metadata": {},
     "output_type": "display_data"
    }
   ],
   "source": [
    "# Inspired by https://github.com/team-ocean/veros/blob/0a4fc146fbda143c8930e41d577e9e52c54c2ea6/test/setup_test.py\n",
    "from veros.setups.north_atlantic import NorthAtlanticSetup\n",
    "\n",
    "sim = NorthAtlanticSetup(override=dict(nx=100, ny=100, nz=50))\n",
    "sim.state.diskless_mode = True\n",
    "sim.setup()\n",
    "# To ensure that the simulation stops before 60 seconds\n",
    "# which is the default Cell execution timeout.\n",
    "with sim.state.settings.unlock():\n",
    "    sim.state.settings.runlen = 10.0\n"
   ]
  },
  {
   "cell_type": "code",
   "execution_count": null,
   "metadata": {},
   "outputs": [],
   "source": [
    "sim.run()"
   ]
  }
 ],
 "metadata": {
  "kernelspec": {
   "display_name": "Python 2",
   "language": "python",
   "name": "python2"
  },
  "language_info": {
   "codemirror_mode": {
    "name": "ipython",
    "version": 2
   },
   "file_extension": ".py",
   "mimetype": "text/x-python",
   "name": "python",
   "nbconvert_exporter": "python",
   "pygments_lexer": "ipython2",
   "version": "2.7.14"
  }
 },
 "nbformat": 4,
 "nbformat_minor": 2
}
