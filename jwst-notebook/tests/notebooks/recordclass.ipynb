{
 "cells": [
  {
   "cell_type": "code",
   "execution_count": null,
   "metadata": {
    "collapsed": true
   },
   "outputs": [],
   "source": [
    "from recordclass import recordclass"
   ]
  },
  {
   "cell_type": "code",
   "execution_count": null,
   "outputs": [],
   "source": [
    "Point = recordclass('Point', 'x y')\n",
    "p = Point(1,2)\n",
    "print(p)\n",
    "\n",
    "assert p.x == 1\n",
    "assert p.y == 2\n",
    "\n",
    "p.x, p.y = 10, 20\n",
    "\n",
    "assert p.x == 10\n",
    "assert p.y == 20"
   ],
   "metadata": {
    "collapsed": false,
    "pycharm": {
     "name": "#%%\n"
    }
   }
  }
 ],
 "metadata": {
  "language_info": {
   "codemirror_mode": {
    "name": "ipython",
    "version": 2
   },
   "file_extension": ".py",
   "mimetype": "text/x-python",
   "name": "python",
   "nbconvert_exporter": "python",
   "pygments_lexer": "ipython2",
   "version": "2.7.6"
  },
  "kernelspec": {
   "name": "pycharm-4c987245",
   "language": "python",
   "display_name": "PyCharm (nbi-jupyter-docker-stacks)"
  },
  "pycharm": {
   "stem_cell": {
    "cell_type": "raw",
    "source": [],
    "metadata": {
     "collapsed": false
    }
   }
  }
 },
 "nbformat": 4,
 "nbformat_minor": 0
}