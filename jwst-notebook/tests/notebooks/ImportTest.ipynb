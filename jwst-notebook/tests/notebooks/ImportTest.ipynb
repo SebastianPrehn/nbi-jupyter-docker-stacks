{
 "cells": [
  {
   "cell_type": "code",
   "execution_count": 4,
   "metadata": {},
   "outputs": [],
   "source": [
    "import numpy as np                # numerical analysis (pip install numpy --user)\n",
    "import matplotlib\n",
    "import matplotlib.pyplot as plt   # plotting package (Usually comes with Python, pip install matplotlib --user)\n",
    "import pandas as pd               # excel-like dataframes  (pip install pandas --user)\n",
    "import sklearn                    # scikit learn, machine learning package (pip install scikit_learn --user)\n",
    "import seaborn as sns             # nicer standard plot looks (pip install seaborn --user)\n",
    "import xgboost as xgb             # machine learning, gradient boosting, package\n",
    "from IPython.display import display \n",
    "import warnings\n",
    "from sklearn.model_selection import train_test_split\n",
    "from sklearn.pipeline import make_pipeline\n",
    "from sklearn import preprocessing\n",
    "from sklearn.linear_model import LinearRegression\n",
    "from sklearn.tree import export_graphviz\n",
    "from sklearn.tree import DecisionTreeRegressor, DecisionTreeClassifier\n",
    "import pydotplus\n",
    "from sklearn.model_selection import GridSearchCV\n",
    "from sklearn.metrics import make_scorer\n",
    "\n",
    "from bayes_opt import BayesianOptimization\n",
    "from tqdm import tqdm"
   ]
  },
  {
   "cell_type": "code",
   "execution_count": null,
   "metadata": {},
   "outputs": [],
   "source": []
  }
 ],
 "metadata": {
  "kernelspec": {
   "display_name": "Python 3",
   "language": "python",
   "name": "python3"
  },
  "language_info": {
   "codemirror_mode": {
    "name": "ipython",
    "version": 3
   },
   "file_extension": ".py",
   "mimetype": "text/x-python",
   "name": "python",
   "nbconvert_exporter": "python",
   "pygments_lexer": "ipython3",
   "version": "3.7.3"
  }
 },
 "nbformat": 4,
 "nbformat_minor": 2
}