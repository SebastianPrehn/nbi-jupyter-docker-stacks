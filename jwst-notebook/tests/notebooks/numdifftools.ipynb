{
 "cells": [
  {
   "cell_type": "code",
   "execution_count": null,
   "outputs": [],
   "source": [
    "import numpy as np\n",
    "import numdifftools as nd\n",
    "import matplotlib.pyplot as plt"
   ],
   "metadata": {
    "collapsed": false,
    "pycharm": {
     "name": "#%%\n"
    }
   }
  },
  {
   "cell_type": "code",
   "execution_count": null,
   "outputs": [],
   "source": [
    "\n",
    "x = np.linspace(-2, 2, 100)\n",
    "for i in range(10):\n",
    "    df = nd.Derivative(np.tanh, n=i)\n",
    "    y = df(x)\n",
    "    h = plt.plot(x, y/np.abs(y).max())\n",
    "\n",
    "plt.show()"
   ],
   "metadata": {
    "collapsed": false,
    "pycharm": {
     "name": "#%%\n"
    }
   }
  },
  {
   "cell_type": "code",
   "execution_count": null,
   "outputs": [],
   "source": [
    "fd = nd.Derivative(np.exp) # First derivative\n",
    "fdd = nd.Derivative(np.exp, n=2) # Second derivative\n",
    "\n",
    "assert np.allclose(fd(1), 2.7182818284590424)\n",
    "assert np.allclose(fdd(1), 2.7182818284590424)\n"
   ],
   "metadata": {
    "collapsed": false,
    "pycharm": {
     "name": "#%%\n"
    }
   }
  }
 ],
 "metadata": {
  "language_info": {
   "codemirror_mode": {
    "name": "ipython",
    "version": 2
   },
   "file_extension": ".py",
   "mimetype": "text/x-python",
   "name": "python",
   "nbconvert_exporter": "python",
   "pygments_lexer": "ipython2",
   "version": "2.7.6"
  },
  "kernelspec": {
   "name": "pycharm-4c987245",
   "language": "python",
   "display_name": "PyCharm (nbi-jupyter-docker-stacks)"
  },
  "pycharm": {
   "stem_cell": {
    "cell_type": "raw",
    "source": [],
    "metadata": {
     "collapsed": false
    }
   }
  }
 },
 "nbformat": 4,
 "nbformat_minor": 0
}