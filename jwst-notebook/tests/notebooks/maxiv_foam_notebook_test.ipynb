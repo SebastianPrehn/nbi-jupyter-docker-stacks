{
 "cells": [
  {
   "cell_type": "code",
   "execution_count": null,
   "metadata": {},
   "outputs": [],
   "source": [
    "import numpy as np\n",
    "import matplotlib.pyplot as plt\n",
    "import pandas as pd\n",
    "from skimage.morphology import binary_opening, convex_hull_image as chull\n",
    "from skimage.io import imread, imsave\n",
    "from scipy import ndimage as ndi\n",
    "from scipy.ndimage.morphology import distance_transform_edt as distmap\n",
    "from skimage.feature import peak_local_max\n",
    "from skimage.morphology import watershed\n",
    "from skimage.measure import regionprops"
   ]
  },
  {
   "cell_type": "code",
   "execution_count": null,
   "metadata": {},
   "outputs": [],
   "source": [
    "# Create random test image\n",
    "Z = np.random.random((50, 50, 3))\n",
    "imsave(fname='test_image.tiff', arr=Z, plugin='pil')\n",
    "stack_image=imread('test_image.tiff')\n",
    "print(stack_image.shape, stack_image.dtype)"
   ]
  },
  {
   "cell_type": "code",
   "execution_count": null,
   "metadata": {},
   "outputs": [],
   "source": [
    "%matplotlib inline\n",
    "fig, (ax1, ax2, ax3) = plt.subplots(1,3, figsize = (12, 4))\n",
    "for i, (cax, clabel) in enumerate(zip([ax1, ax2, ax3], ['xy', 'zy', 'zx'])):\n",
    "    cax.imshow(np.sum(stack_image,i).squeeze(), interpolation='none', cmap = 'bone_r')\n",
    "    cax.set_title('%s Projection' % clabel)\n",
    "    cax.set_xlabel(clabel[0])\n",
    "    cax.set_ylabel(clabel[1])"
   ]
  },
  {
   "cell_type": "code",
   "execution_count": null,
   "metadata": {},
   "outputs": [],
   "source": [
    "plt.imshow(stack_image[0], cmap='bone')"
   ]
  },
  {
   "cell_type": "code",
   "execution_count": null,
   "metadata": {},
   "outputs": [],
   "source": [
    "bubble_image = np.stack([chull(csl>0) & (csl==0) for csl in stack_image])\n",
    "plt.imshow(bubble_image[5]>0, cmap = 'bone')"
   ]
  },
  {
   "cell_type": "code",
   "execution_count": null,
   "metadata": {},
   "outputs": [],
   "source": [
    "bubble_invert=np.invert(bubble_image)\n",
    "plt.imshow(bubble_invert[15],cmap='bone')"
   ]
  },
  {
   "cell_type": "code",
   "execution_count": null,
   "metadata": {},
   "outputs": [],
   "source": [
    "bubble_dist=distmap(bubble_invert)\n",
    "plt.imshow(bubble_dist[25,:,:],interpolation='none',cmap='jet')\n"
   ]
  }
 ],
 "metadata": {
  "kernelspec": {
   "display_name": "Python 2",
   "language": "python",
   "name": "python2"
  },
  "language_info": {
   "codemirror_mode": {
    "name": "ipython",
    "version": 2
   },
   "file_extension": ".py",
   "mimetype": "text/x-python",
   "name": "python",
   "nbconvert_exporter": "python",
   "pygments_lexer": "ipython2",
   "version": "2.7.14"
  }
 },
 "nbformat": 4,
 "nbformat_minor": 2
}