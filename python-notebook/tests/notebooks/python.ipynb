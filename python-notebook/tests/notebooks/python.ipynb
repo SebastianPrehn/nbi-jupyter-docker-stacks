{
 "cells": [
  {
   "cell_type": "code",
   "execution_count": null,
   "metadata": {},
   "outputs": [],
   "source": [
    "from math import pi, pow\n",
    "from math import factorial as f\n",
    "\n",
    "# General python stuff\n",
    "assert 2 == 3 - 1\n",
    "\n",
    "result = 0\n",
    "for i in range(10):\n",
    "    result += 1\n",
    "assert result == 10\n",
    "\n",
    "a = pi * (12.34 / 2) ** 2\n",
    "assert a == 119.59697657024448\n",
    "\n",
    "x = 3\n",
    "y = (\n",
    "    3\n",
    "    - (pow(x, 3) / f(3))\n",
    "    + (pow(x, 5) / f(5))\n",
    "    - (pow(x, 7) / f(7))\n",
    "    + (pow(x, 9) / f(9))\n",
    "    - (pow(x, 11) / f(11))\n",
    "    + (pow(x, 13) / f(13))\n",
    ")\n",
    "assert y == 0.14113062718531458"
   ]
  }
 ],
 "metadata": {
  "kernelspec": {
   "display_name": "Python 2",
   "language": "python",
   "name": "python2"
  },
  "language_info": {
   "codemirror_mode": {
    "name": "ipython",
    "version": 2
   },
   "file_extension": ".py",
   "mimetype": "text/x-python",
   "name": "python",
   "nbconvert_exporter": "python",
   "pygments_lexer": "ipython2",
   "version": "2.7.6"
  }
 },
 "nbformat": 4,
 "nbformat_minor": 0
}