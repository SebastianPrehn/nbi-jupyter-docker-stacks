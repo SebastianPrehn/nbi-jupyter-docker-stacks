{
 "cells": [
  {
   "cell_type": "code",
   "execution_count": null,
   "metadata": {
    "collapsed": true
   },
   "outputs": [],
   "source": [
        "import igl\n",
        "import meshplot as mp\n",
        "import numpy as np\n",
        "import wildmeshing as wm\n",
        "import matplotlib.pyplot as plt\n",
        "tetra = wm.Tetrahedralizer(stop_quality=500)\n",
        "tetra.load_mesh('armadillo.obj')\n",
        "tetra.tetrahedralize()\n",
        "V, T = tetra.get_tet_mesh()\n",
        "mp.plot(V, T)\n"
   ]
  }
 ],
 "metadata": {
  "kernelspec": {
   "display_name": "Python 2",
   "language": "python",
   "name": "python2"
  },
  "language_info": {
   "codemirror_mode": {
    "name": "ipython",
    "version": 2
   },
   "file_extension": ".py",
   "mimetype": "text/x-python",
   "name": "python",
   "nbconvert_exporter": "python",
   "pygments_lexer": "ipython2",
   "version": "2.7.6"
  }
 },
 "nbformat": 4,
 "nbformat_minor": 0
}
