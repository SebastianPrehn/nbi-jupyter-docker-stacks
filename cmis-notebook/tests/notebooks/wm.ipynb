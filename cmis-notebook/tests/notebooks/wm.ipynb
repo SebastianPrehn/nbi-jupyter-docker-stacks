{
 "cells": [
  {
   "cell_type": "code",
   "execution_count": null,
   "metadata": {
    "collapsed": true
   },
   "outputs": [],
   "source": [
    "import numpy as np\n",
    "import wildmeshing as wm\n",
    "radius = 1.0\n",
    "K = 10\n",
    "X = np.array([ radius*np.cos(2*np.pi*k/K) for k in range(K)])\n",
    "Y = np.array([ radius*np.sin(2*np.pi*k/K) for k in range(K)])\n",
    "P = np.zeros((K, 2))\n",
    "P[:,0] = X\n",
    "P[:,1] = Y\n",
    "L = np.array([(k,(k+1)%K) for k in range(K)],dtype=np.int32)\n",
    "V, T, _, _ = wm.triangulate_data(P, L, cut_outside=True)"
   ]
  }
 ],
 "metadata": {
  "kernelspec": {
   "display_name": "Python 2",
   "language": "python",
   "name": "python2"
  },
  "language_info": {
   "codemirror_mode": {
    "name": "ipython",
    "version": 2
   },
   "file_extension": ".py",
   "mimetype": "text/x-python",
   "name": "python",
   "nbconvert_exporter": "python",
   "pygments_lexer": "ipython2",
   "version": "2.7.6"
  }
 },
 "nbformat": 4,
 "nbformat_minor": 0
}
